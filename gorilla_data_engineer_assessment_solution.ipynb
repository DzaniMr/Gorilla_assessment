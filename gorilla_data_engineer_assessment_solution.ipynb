{
 "cells": [
  {
   "cell_type": "code",
   "execution_count": 1,
   "id": "7e5e029b",
   "metadata": {},
   "outputs": [],
   "source": [
    "# used packages\n",
    "import pandas as pd\n",
    "import os\n",
    "import datetime\n",
    "import random\n",
    "from typing import List, Union\n",
    "import itertools\n",
    "import time"
   ]
  },
  {
   "cell_type": "code",
   "execution_count": 2,
   "id": "36c124c7",
   "metadata": {},
   "outputs": [],
   "source": [
    "# load data\n",
    "df_meter_list = pd.read_excel(os.path.join(os.getcwd(), 'gorilla_test_data.xlsx'), sheet_name = 'meter_list') \n",
    "df_forecast = pd.read_excel(os.path.join(os.getcwd(), 'gorilla_test_data.xlsx'), sheet_name = 'forecast_table')\n",
    "df_rate = pd.read_excel(os.path.join(os.getcwd(), 'gorilla_test_data.xlsx'), sheet_name = 'rate_table')"
   ]
  },
  {
   "cell_type": "markdown",
   "id": "0da06d98",
   "metadata": {},
   "source": [
    "# Question 1\n"
   ]
  },
  {
   "cell_type": "code",
   "execution_count": 3,
   "id": "497c3f84",
   "metadata": {},
   "outputs": [],
   "source": [
    "#merge the meters list and forecast table\n",
    "merged_df = df_meter_list.merge(df_forecast,on='meter_id')"
   ]
  },
  {
   "cell_type": "code",
   "execution_count": 4,
   "id": "e406fa3d",
   "metadata": {},
   "outputs": [],
   "source": [
    "def calculate_daily_cost(row: pd.Series) -> pd.Series:\n",
    "    \"\"\"\n",
    "    Calculate the daily cost by multiplying the rate (in p/kWh) with the day's forecast (in kWh)\n",
    "    Arguments:\n",
    "        row: pd.Series\n",
    "    Returns:\n",
    "        The row with 2 additional columns \"daily_charges\" and \"daily_cost\" which represent the daily rate and the cost in Pounds for the day\n",
    "    \"\"\"\n",
    "    date_max = df_rate[(df_rate['exit_zone'] == row.exit_zone) & (df_rate['date'] < row.date)].date.max()\n",
    "    df_filtered_on_zone_date = df_rate[(df_rate['exit_zone'] == row.exit_zone) & (df_rate['date'] == date_max)]\n",
    "    rate_p_per_kwh = df_filtered_on_zone_date[(row.aq_kwh > df_filtered_on_zone_date.aq_min_kwh) & ((row.aq_kwh < df_filtered_on_zone_date.aq_max_kwh) | (df_filtered_on_zone_date.aq_max_kwh.isnull()))].rate_p_per_kwh\n",
    "    row['daily_charges'] = rate_p_per_kwh.iloc[0]\n",
    "    row['daily_cost'] = (row['kwh'] * row['daily_charges']) * 0.01\n",
    "    \n",
    "    return row"
   ]
  },
  {
   "cell_type": "code",
   "execution_count": 5,
   "id": "76fa747f",
   "metadata": {},
   "outputs": [],
   "source": [
    "def calculate_cost_table(meters_table: pd.DataFrame, forecast_table: pd.DataFrame, rate_table: pd.DataFrame) -> pd.DataFrame:\n",
    "    \"\"\"\n",
    "    Calculate the total estimated consumption and total cost per meter ID over the entire forecast period\n",
    "    Arguments:\n",
    "        meters_table: pd.DataFrame\n",
    "        forecast_table: pd.DataFrame\n",
    "        rate_table: pd.DataFrame\n",
    "    Returns:\n",
    "        The dataframe with the total estimated consumption (kWh) and total cost in Pounds per meter ID\n",
    "    \"\"\"\n",
    "    merged_df = meters_table.merge(forecast_table,on='meter_id')\n",
    "    \n",
    "    # calculate table with the daily cost\n",
    "    calculated_df = merged_df.apply(lambda x: calculate_daily_cost(x), axis = 1)\n",
    "    calculated_df.kwh = calculated_df.kwh.round(2)\n",
    "    \n",
    "    # calculate summary statistics\n",
    "    result_df = calculated_df.groupby(['meter_id'])[['kwh', 'daily_cost']].sum().round(2)\n",
    "    \n",
    "    # change column names\n",
    "    result_df.index.name = \"Meter ID\"\n",
    "    result_df = result_df.rename(columns={\"kwh\": \"Total Estimated Consumption (kWh)\", \"daily_cost\": \"Total Cost (£)\"})\n",
    "\n",
    "    return result_df"
   ]
  },
  {
   "cell_type": "code",
   "execution_count": 6,
   "id": "d97eae92",
   "metadata": {},
   "outputs": [],
   "source": [
    "#calculate cost table\n",
    "final_df = calculate_cost_table(df_meter_list, df_forecast, df_rate)"
   ]
  },
  {
   "cell_type": "code",
   "execution_count": 7,
   "id": "f2f4dd7a",
   "metadata": {},
   "outputs": [
    {
     "data": {
      "text/html": [
       "<div>\n",
       "<style scoped>\n",
       "    .dataframe tbody tr th:only-of-type {\n",
       "        vertical-align: middle;\n",
       "    }\n",
       "\n",
       "    .dataframe tbody tr th {\n",
       "        vertical-align: top;\n",
       "    }\n",
       "\n",
       "    .dataframe thead th {\n",
       "        text-align: right;\n",
       "    }\n",
       "</style>\n",
       "<table border=\"1\" class=\"dataframe\">\n",
       "  <thead>\n",
       "    <tr style=\"text-align: right;\">\n",
       "      <th></th>\n",
       "      <th>Total Estimated Consumption (kWh)</th>\n",
       "      <th>Total Cost (£)</th>\n",
       "    </tr>\n",
       "    <tr>\n",
       "      <th>Meter ID</th>\n",
       "      <th></th>\n",
       "      <th></th>\n",
       "    </tr>\n",
       "  </thead>\n",
       "  <tbody>\n",
       "    <tr>\n",
       "      <th>14676236</th>\n",
       "      <td>28978.04</td>\n",
       "      <td>100.07</td>\n",
       "    </tr>\n",
       "    <tr>\n",
       "      <th>34509937</th>\n",
       "      <td>78323.80</td>\n",
       "      <td>275.28</td>\n",
       "    </tr>\n",
       "    <tr>\n",
       "      <th>50264822</th>\n",
       "      <td>265667.04</td>\n",
       "      <td>730.63</td>\n",
       "    </tr>\n",
       "    <tr>\n",
       "      <th>88357331</th>\n",
       "      <td>484399.00</td>\n",
       "      <td>1432.13</td>\n",
       "    </tr>\n",
       "  </tbody>\n",
       "</table>\n",
       "</div>"
      ],
      "text/plain": [
       "          Total Estimated Consumption (kWh)  Total Cost (£)\n",
       "Meter ID                                                   \n",
       "14676236                           28978.04          100.07\n",
       "34509937                           78323.80          275.28\n",
       "50264822                          265667.04          730.63\n",
       "88357331                          484399.00         1432.13"
      ]
     },
     "execution_count": 7,
     "metadata": {},
     "output_type": "execute_result"
    }
   ],
   "source": [
    "# the resulting table\n",
    "final_df"
   ]
  },
  {
   "cell_type": "markdown",
   "id": "6b59c6f5",
   "metadata": {},
   "source": [
    "# Question 2"
   ]
  },
  {
   "cell_type": "code",
   "execution_count": 8,
   "id": "76f3fa8d",
   "metadata": {},
   "outputs": [],
   "source": [
    "exit_zone_list = df_rate.exit_zone.unique()"
   ]
  },
  {
   "cell_type": "code",
   "execution_count": 9,
   "id": "6533af02",
   "metadata": {},
   "outputs": [
    {
     "name": "stdout",
     "output_type": "stream",
     "text": [
      "the maximum forecasted kwh: 1169.400411138627\n",
      "the minimum forecasted kwh: 2.91877038164736\n"
     ]
    }
   ],
   "source": [
    "print('the maximum forecasted kwh: {}'.format(df_forecast.kwh.max()))\n",
    "print('the minimum forecasted kwh: {}'.format(df_forecast.kwh.min()))"
   ]
  },
  {
   "cell_type": "code",
   "execution_count": 10,
   "id": "1cad8d44",
   "metadata": {},
   "outputs": [
    {
     "name": "stdout",
     "output_type": "stream",
     "text": [
      "the maximum aq kwh: 484399\n",
      "the minimum aq kwh: 28978\n"
     ]
    }
   ],
   "source": [
    "print('the maximum aq kwh: {}'.format(df_meter_list.aq_kwh.max()))\n",
    "print('the minimum aq kwh: {}'.format(df_meter_list.aq_kwh.min()))"
   ]
  },
  {
   "cell_type": "code",
   "execution_count": 11,
   "id": "b591265c",
   "metadata": {},
   "outputs": [],
   "source": [
    "def generate_random_meters_list(number: int = 1) -> pd.DataFrame:\n",
    "    \"\"\"\n",
    "    Randomly generate meter list data\n",
    "    Arguments:\n",
    "        number: int\n",
    "    Returns:\n",
    "        The dataframe with the randomly generated meter list data\n",
    "    \"\"\"\n",
    "    random_meter_list: List[List[Union[int, str]]] = []\n",
    "    for ind in range(0, number):\n",
    "        exit_zone: str = random.choice(exit_zone_list)\n",
    "        meter: int = random.randint(10000000, 99999999)\n",
    "        aq_kwh: int = random.randint(1000, 1000000)\n",
    "        meter: List[Union[int, str]] = [meter, exit_zone, aq_kwh]\n",
    "        random_meter_list.append(meter)\n",
    "    \n",
    "    df_random_meter: pd.DataFrame = pd.DataFrame(random_meter_list, columns = ['meter_id', 'exit_zone' , 'aq_kwh'])\n",
    "    return df_random_meter    "
   ]
  },
  {
   "cell_type": "code",
   "execution_count": 12,
   "id": "48300940",
   "metadata": {},
   "outputs": [],
   "source": [
    "result = generate_random_meters_list(5)"
   ]
  },
  {
   "cell_type": "code",
   "execution_count": 13,
   "id": "2fc0d23f",
   "metadata": {},
   "outputs": [
    {
     "data": {
      "text/html": [
       "<div>\n",
       "<style scoped>\n",
       "    .dataframe tbody tr th:only-of-type {\n",
       "        vertical-align: middle;\n",
       "    }\n",
       "\n",
       "    .dataframe tbody tr th {\n",
       "        vertical-align: top;\n",
       "    }\n",
       "\n",
       "    .dataframe thead th {\n",
       "        text-align: right;\n",
       "    }\n",
       "</style>\n",
       "<table border=\"1\" class=\"dataframe\">\n",
       "  <thead>\n",
       "    <tr style=\"text-align: right;\">\n",
       "      <th></th>\n",
       "      <th>meter_id</th>\n",
       "      <th>exit_zone</th>\n",
       "      <th>aq_kwh</th>\n",
       "    </tr>\n",
       "  </thead>\n",
       "  <tbody>\n",
       "    <tr>\n",
       "      <th>0</th>\n",
       "      <td>72044836</td>\n",
       "      <td>WA2</td>\n",
       "      <td>453765</td>\n",
       "    </tr>\n",
       "    <tr>\n",
       "      <th>1</th>\n",
       "      <td>10395065</td>\n",
       "      <td>SW1</td>\n",
       "      <td>341866</td>\n",
       "    </tr>\n",
       "    <tr>\n",
       "      <th>2</th>\n",
       "      <td>68705463</td>\n",
       "      <td>LW</td>\n",
       "      <td>698813</td>\n",
       "    </tr>\n",
       "    <tr>\n",
       "      <th>3</th>\n",
       "      <td>36001497</td>\n",
       "      <td>WM3</td>\n",
       "      <td>206987</td>\n",
       "    </tr>\n",
       "    <tr>\n",
       "      <th>4</th>\n",
       "      <td>11525096</td>\n",
       "      <td>SW3</td>\n",
       "      <td>631182</td>\n",
       "    </tr>\n",
       "  </tbody>\n",
       "</table>\n",
       "</div>"
      ],
      "text/plain": [
       "   meter_id exit_zone  aq_kwh\n",
       "0  72044836       WA2  453765\n",
       "1  10395065       SW1  341866\n",
       "2  68705463        LW  698813\n",
       "3  36001497       WM3  206987\n",
       "4  11525096       SW3  631182"
      ]
     },
     "execution_count": 13,
     "metadata": {},
     "output_type": "execute_result"
    }
   ],
   "source": [
    "result"
   ]
  },
  {
   "cell_type": "markdown",
   "id": "75600f0d",
   "metadata": {},
   "source": [
    "# Question 3"
   ]
  },
  {
   "cell_type": "code",
   "execution_count": 14,
   "id": "3a8f33c6",
   "metadata": {},
   "outputs": [],
   "source": [
    "date = datetime.datetime(2021, 5, 17)"
   ]
  },
  {
   "cell_type": "code",
   "execution_count": 15,
   "id": "eb1ce45a",
   "metadata": {},
   "outputs": [],
   "source": [
    "def generate_forecast_consumption_table(meter_list: List[int], date: datetime, duration: int = 1) -> pd.DataFrame:\n",
    "    \"\"\"\n",
    "    Calculate the total estimated consumption and total cost per meter ID over the entire forecast period\n",
    "    Arguments:\n",
    "        meters_table: pd.DataFrame\n",
    "        forecast_table: pd.DataFrame\n",
    "        rate_table: pd.DataFrame\n",
    "    Returns:\n",
    "        The dataframe with the total estimated consumption (kWh) and total cost in Pounds per meter ID\n",
    "    \"\"\"\n",
    "    df_list = []\n",
    "    for meter in meter_list: \n",
    "        df: pd.DataFrame = pd.DataFrame({'meter_id': meter, 'date':pd.date_range(date, periods=duration)})\n",
    "        df['kwh']: pd.DataFrame = df.apply(lambda x: random.uniform(0, 1000), axis = 1)\n",
    "        df_list.append(df)\n",
    "    \n",
    "    final_df = pd.concat(df_list)\n",
    "    return final_df"
   ]
  },
  {
   "cell_type": "code",
   "execution_count": 16,
   "id": "fef5c5fe",
   "metadata": {},
   "outputs": [
    {
     "data": {
      "text/html": [
       "<div>\n",
       "<style scoped>\n",
       "    .dataframe tbody tr th:only-of-type {\n",
       "        vertical-align: middle;\n",
       "    }\n",
       "\n",
       "    .dataframe tbody tr th {\n",
       "        vertical-align: top;\n",
       "    }\n",
       "\n",
       "    .dataframe thead th {\n",
       "        text-align: right;\n",
       "    }\n",
       "</style>\n",
       "<table border=\"1\" class=\"dataframe\">\n",
       "  <thead>\n",
       "    <tr style=\"text-align: right;\">\n",
       "      <th></th>\n",
       "      <th>meter_id</th>\n",
       "      <th>date</th>\n",
       "      <th>kwh</th>\n",
       "    </tr>\n",
       "  </thead>\n",
       "  <tbody>\n",
       "    <tr>\n",
       "      <th>0</th>\n",
       "      <td>154340</td>\n",
       "      <td>2021-05-17</td>\n",
       "      <td>784.397450</td>\n",
       "    </tr>\n",
       "    <tr>\n",
       "      <th>1</th>\n",
       "      <td>154340</td>\n",
       "      <td>2021-05-18</td>\n",
       "      <td>749.354287</td>\n",
       "    </tr>\n",
       "    <tr>\n",
       "      <th>2</th>\n",
       "      <td>154340</td>\n",
       "      <td>2021-05-19</td>\n",
       "      <td>615.107814</td>\n",
       "    </tr>\n",
       "    <tr>\n",
       "      <th>3</th>\n",
       "      <td>154340</td>\n",
       "      <td>2021-05-20</td>\n",
       "      <td>5.380821</td>\n",
       "    </tr>\n",
       "    <tr>\n",
       "      <th>4</th>\n",
       "      <td>154340</td>\n",
       "      <td>2021-05-21</td>\n",
       "      <td>890.156368</td>\n",
       "    </tr>\n",
       "    <tr>\n",
       "      <th>...</th>\n",
       "      <td>...</td>\n",
       "      <td>...</td>\n",
       "      <td>...</td>\n",
       "    </tr>\n",
       "    <tr>\n",
       "      <th>65</th>\n",
       "      <td>954090</td>\n",
       "      <td>2021-07-21</td>\n",
       "      <td>381.730097</td>\n",
       "    </tr>\n",
       "    <tr>\n",
       "      <th>66</th>\n",
       "      <td>954090</td>\n",
       "      <td>2021-07-22</td>\n",
       "      <td>704.704922</td>\n",
       "    </tr>\n",
       "    <tr>\n",
       "      <th>67</th>\n",
       "      <td>954090</td>\n",
       "      <td>2021-07-23</td>\n",
       "      <td>46.557253</td>\n",
       "    </tr>\n",
       "    <tr>\n",
       "      <th>68</th>\n",
       "      <td>954090</td>\n",
       "      <td>2021-07-24</td>\n",
       "      <td>811.239748</td>\n",
       "    </tr>\n",
       "    <tr>\n",
       "      <th>69</th>\n",
       "      <td>954090</td>\n",
       "      <td>2021-07-25</td>\n",
       "      <td>774.112608</td>\n",
       "    </tr>\n",
       "  </tbody>\n",
       "</table>\n",
       "<p>140 rows × 3 columns</p>\n",
       "</div>"
      ],
      "text/plain": [
       "    meter_id       date         kwh\n",
       "0     154340 2021-05-17  784.397450\n",
       "1     154340 2021-05-18  749.354287\n",
       "2     154340 2021-05-19  615.107814\n",
       "3     154340 2021-05-20    5.380821\n",
       "4     154340 2021-05-21  890.156368\n",
       "..       ...        ...         ...\n",
       "65    954090 2021-07-21  381.730097\n",
       "66    954090 2021-07-22  704.704922\n",
       "67    954090 2021-07-23   46.557253\n",
       "68    954090 2021-07-24  811.239748\n",
       "69    954090 2021-07-25  774.112608\n",
       "\n",
       "[140 rows x 3 columns]"
      ]
     },
     "execution_count": 16,
     "metadata": {},
     "output_type": "execute_result"
    }
   ],
   "source": [
    "generate_forecast_consumption_table([154340, 954090], date, 70)"
   ]
  },
  {
   "cell_type": "markdown",
   "id": "846b43e4",
   "metadata": {},
   "source": [
    "# Question 4"
   ]
  },
  {
   "cell_type": "code",
   "execution_count": 17,
   "id": "228ff261",
   "metadata": {},
   "outputs": [],
   "source": [
    "meters_list = [1, 5, 10, 50, 100]\n",
    "duration = [1, 10, 100, 500, 1000]\n",
    "combinations = list(itertools.product(meters_list, duration))"
   ]
  },
  {
   "cell_type": "code",
   "execution_count": 18,
   "id": "36f88a00",
   "metadata": {},
   "outputs": [
    {
     "data": {
      "text/plain": [
       "[(1, 1),\n",
       " (1, 10),\n",
       " (1, 100),\n",
       " (1, 500),\n",
       " (1, 1000),\n",
       " (5, 1),\n",
       " (5, 10),\n",
       " (5, 100),\n",
       " (5, 500),\n",
       " (5, 1000),\n",
       " (10, 1),\n",
       " (10, 10),\n",
       " (10, 100),\n",
       " (10, 500),\n",
       " (10, 1000),\n",
       " (50, 1),\n",
       " (50, 10),\n",
       " (50, 100),\n",
       " (50, 500),\n",
       " (50, 1000),\n",
       " (100, 1),\n",
       " (100, 10),\n",
       " (100, 100),\n",
       " (100, 500),\n",
       " (100, 1000)]"
      ]
     },
     "execution_count": 18,
     "metadata": {},
     "output_type": "execute_result"
    }
   ],
   "source": [
    "combinations"
   ]
  },
  {
   "cell_type": "code",
   "execution_count": 19,
   "id": "c8fb58a6",
   "metadata": {},
   "outputs": [
    {
     "name": "stdout",
     "output_type": "stream",
     "text": [
      "Completed the execution for 1 number of meters and 1 forecast periods in 0.04 seconds\n",
      "Completed the execution for 1 number of meters and 10 forecast periods in 0.06 seconds\n",
      "Completed the execution for 1 number of meters and 100 forecast periods in 0.24 seconds\n",
      "Completed the execution for 1 number of meters and 500 forecast periods in 1.25 seconds\n",
      "Completed the execution for 1 number of meters and 1000 forecast periods in 3.01 seconds\n",
      "Completed the execution for 5 number of meters and 1 forecast periods in 0.01 seconds\n",
      "Completed the execution for 5 number of meters and 10 forecast periods in 0.11 seconds\n",
      "Completed the execution for 5 number of meters and 100 forecast periods in 1.71 seconds\n",
      "Completed the execution for 5 number of meters and 500 forecast periods in 5.45 seconds\n",
      "Completed the execution for 5 number of meters and 1000 forecast periods in 11.61 seconds\n",
      "Completed the execution for 10 number of meters and 1 forecast periods in 0.03 seconds\n",
      "Completed the execution for 10 number of meters and 10 forecast periods in 0.42 seconds\n",
      "Completed the execution for 10 number of meters and 100 forecast periods in 3.04 seconds\n",
      "Completed the execution for 10 number of meters and 500 forecast periods in 17.46 seconds\n",
      "Completed the execution for 10 number of meters and 1000 forecast periods in 28.34 seconds\n",
      "Completed the execution for 50 number of meters and 1 forecast periods in 0.11 seconds\n",
      "Completed the execution for 50 number of meters and 10 forecast periods in 1.15 seconds\n",
      "Completed the execution for 50 number of meters and 100 forecast periods in 11.62 seconds\n",
      "Completed the execution for 50 number of meters and 500 forecast periods in 64.95 seconds\n",
      "Completed the execution for 50 number of meters and 1000 forecast periods in 116.93 seconds\n",
      "Completed the execution for 100 number of meters and 1 forecast periods in 0.25 seconds\n",
      "Completed the execution for 100 number of meters and 10 forecast periods in 2.32 seconds\n",
      "Completed the execution for 100 number of meters and 100 forecast periods in 24.54 seconds\n",
      "Completed the execution for 100 number of meters and 500 forecast periods in 119.04 seconds\n",
      "Completed the execution for 100 number of meters and 1000 forecast periods in 252.67 seconds\n"
     ]
    }
   ],
   "source": [
    "date = datetime.datetime(2020, 6, 20)\n",
    "for combination in combinations:\n",
    "    number_of_meters = combination[0]\n",
    "    duration_of_forecast = combination[1]\n",
    "    \n",
    "    meters_df = generate_random_meters_list(number_of_meters)\n",
    "    forecasted_consumption_table = generate_forecast_consumption_table(list(meters_df.meter_id.values), date, duration_of_forecast)\n",
    "    \n",
    "    start = time.perf_counter()\n",
    "    calculate_cost_table(meters_df, forecasted_consumption_table, df_rate)\n",
    "    print(f\"Completed the execution for {number_of_meters} number of meters and {duration_of_forecast} forecast periods in {round(time.perf_counter() - start, 2)} seconds\")\n",
    "    "
   ]
  },
  {
   "cell_type": "markdown",
   "id": "1e68b885",
   "metadata": {},
   "source": [
    "# Question 5"
   ]
  },
  {
   "cell_type": "markdown",
   "id": "fd64216b",
   "metadata": {},
   "source": [
    "The function does not scale with an increasing number of forecast periods or/and more meters. The solution for this problem would be to use a parrallel processing framework like Spark."
   ]
  },
  {
   "cell_type": "code",
   "execution_count": null,
   "id": "4d56cdde",
   "metadata": {},
   "outputs": [],
   "source": []
  }
 ],
 "metadata": {
  "kernelspec": {
   "display_name": "Python 3 (ipykernel)",
   "language": "python",
   "name": "python3"
  },
  "language_info": {
   "codemirror_mode": {
    "name": "ipython",
    "version": 3
   },
   "file_extension": ".py",
   "mimetype": "text/x-python",
   "name": "python",
   "nbconvert_exporter": "python",
   "pygments_lexer": "ipython3",
   "version": "3.10.6"
  }
 },
 "nbformat": 4,
 "nbformat_minor": 5
}
